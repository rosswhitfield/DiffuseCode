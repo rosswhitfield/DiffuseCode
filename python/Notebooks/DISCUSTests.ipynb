{
 "cells": [
  {
   "cell_type": "markdown",
   "metadata": {},
   "source": [
    "## DISCUS Notebook"
   ]
  },
  {
   "cell_type": "markdown",
   "metadata": {},
   "source": [
    "#### My Python build directory for now"
   ]
  },
  {
   "cell_type": "code",
   "execution_count": 1,
   "metadata": {},
   "outputs": [],
   "source": [
    "import sys\n",
    "sys.path.append('/home/discus/DiffuseBuilt/python')  # Find an installation location (/usr/local/lib or python default path)"
   ]
  },
  {
   "cell_type": "markdown",
   "metadata": {},
   "source": [
    "#### Import the DISCUS Suite"
   ]
  },
  {
   "cell_type": "code",
   "execution_count": 2,
   "metadata": {
    "scrolled": true
   },
   "outputs": [],
   "source": [
    "from suite_python import suite as s\n",
    "import numpy as np"
   ]
  },
  {
   "cell_type": "markdown",
   "metadata": {},
   "source": [
    "#### Play"
   ]
  },
  {
   "cell_type": "code",
   "execution_count": 3,
   "metadata": {},
   "outputs": [
    {
     "name": "stdout",
     "output_type": "stream",
     "text": [
      "\u001b[49m\n",
      "\u001b[39m\n",
      " ................................................................................................................................................................................................................................................................\n",
      "\n",
      "\n",
      "\n",
      "\n",
      "\n",
      "\n",
      "          ***********************************************************\n",
      "          *         D I S C U S - S U I T E  Version 6.16.02b       *\n",
      "          *                      DEBUG VERSION                      *\n",
      "          *         OpenMP is active; maximum threads  10           *\n",
      "          *         Created : 2024-03-04                            *\n",
      "          *---------------------------------------------------------*\n",
      "          * (c) R.B. Neder  (reinhard.neder@fau.de)                 *\n",
      "          * (c) T. Proffen  (tproffen@ornl.gov    )                 *\n",
      "          ***********************************************************\n",
      "\n",
      " Start directory  : C:\\Users\\thoma\\Github\\DiffuseCode\\python\\Notebooks\\\n",
      " Access manuals at each section with   : manual\n",
      " Access help at each section/menu with : help  \n",
      " News at each section/Command_lang in  : help News\n",
      " Change font size with                 : CTRL + /CTRL -\n",
      " Preferences: Right click + Preferences: \n",
      "\n",
      "\n"
     ]
    }
   ],
   "source": [
    "s.initialize_suite()"
   ]
  },
  {
   "cell_type": "code",
   "execution_count": 5,
   "metadata": {},
   "outputs": [
    {
     "data": {
      "text/plain": [
       "['__call__',\n",
       " '__class__',\n",
       " '__delattr__',\n",
       " '__dir__',\n",
       " '__doc__',\n",
       " '__eq__',\n",
       " '__format__',\n",
       " '__ge__',\n",
       " '__getattribute__',\n",
       " '__gt__',\n",
       " '__hash__',\n",
       " '__init__',\n",
       " '__init_subclass__',\n",
       " '__le__',\n",
       " '__lt__',\n",
       " '__ne__',\n",
       " '__new__',\n",
       " '__reduce__',\n",
       " '__reduce_ex__',\n",
       " '__repr__',\n",
       " '__setattr__',\n",
       " '__sizeof__',\n",
       " '__str__',\n",
       " '__subclasshook__']"
      ]
     },
     "execution_count": 5,
     "metadata": {},
     "output_type": "execute_result"
    }
   ],
   "source": [
    "dir(s.get_data)"
   ]
  },
  {
   "cell_type": "code",
   "execution_count": 16,
   "metadata": {},
   "outputs": [
    {
     "name": "stdout",
     "output_type": "stream",
     "text": [
      "\u001b[34m@one.mac\u001b[39m\n",
      " suite> discus\n",
      " discus> variable integer,test\n",
      " discus> test=123\n",
      " discus> exit\n",
      "  \n"
     ]
    }
   ],
   "source": [
    "s.execute_macro(\"@one.mac\")"
   ]
  },
  {
   "cell_type": "code",
   "execution_count": 17,
   "metadata": {},
   "outputs": [
    {
     "name": "stdout",
     "output_type": "stream",
     "text": [
      "\u001b[34m@one.mac\u001b[39m\n",
      " suite> discus\n",
      " discus> variable integer,test\n",
      " discus> test=123\n",
      " discus> exit\n",
      "  \n"
     ]
    }
   ],
   "source": [
    "s.execute_macro(\"@one.mac\")"
   ]
  },
  {
   "cell_type": "code",
   "execution_count": 18,
   "metadata": {},
   "outputs": [
    {
     "name": "stdout",
     "output_type": "stream",
     "text": [
      "\u001b[34m@two.mac\u001b[39m\n",
      " suite> eval test\n",
      " Value of test =    123.000000000    \n",
      " suite> echo \"Woohoo\"\n",
      " Woohoo\n",
      "  \n"
     ]
    }
   ],
   "source": [
    "s.execute_macro(\"@two.mac\")"
   ]
  },
  {
   "cell_type": "code",
   "execution_count": 6,
   "metadata": {},
   "outputs": [
    {
     "name": "stdout",
     "output_type": "stream",
     "text": [
      "\u001b[34m@powder.mac\u001b[39m\n",
      " suite> discus\n",
      " discus> read\n",
      " discus/read> cell primitive.cell,1,1,1\n",
      " Pm-3m             221\n",
      " Lattice constants :\n",
      "    a          b          c         alpha      beta       gamma      volume\n",
      "    3.52340    3.52340    3.52340   90.00000   90.00000   90.00000    43.7407    \n",
      "\n",
      " Metric Tensor     :\n",
      "      12.41435      0.00000      0.00000\n",
      "       0.00000     12.41435      0.00000\n",
      "       0.00000      0.00000     12.41435\n",
      "\n",
      " Reciprocal Lattice constants :\n",
      "    a*         b*         c*        alpha*     beta*      gamma*     volume\n",
      "    0.28382    0.28382    0.28382   90.00000   90.00000   90.00000   0.228620E-01\n",
      "\n",
      " Reciprocal metric tensor     : \n",
      "       0.08055     -0.00000     -0.00000\n",
      "      -0.00000      0.08055     -0.00000\n",
      "      -0.00000     -0.00000      0.08055\n",
      "\n",
      " discus>  \n",
      " discus> powder\n",
      " discus/powd> reset\n",
      " discus/powd> xray\n",
      " discus/powd> set axis,q\n",
      " discus/powd> set calc,debye\n",
      " discus/powd> set disp,off\n",
      " discus/powd> set delta,0.0\n",
      " discus/powd> set qmin,0.500\n",
      " discus/powd> set qmax,7.100\n",
      " discus/powd> set dq,  0.005\n",
      " discus/powd> set profile, off\n",
      " discus/powd>  \n",
      " discus/powd>  \n",
      " discus/powd>  \n",
      " discus/powd>  \n",
      " discus/powd> set temp,use\n",
      " discus/powd> set wvle,1.54056\n",
      " discus/powd> set four,four\n",
      " discus/powd> set lpcor,bragg,26.58\n",
      " discus/powd> show\n",
      " Settings for Powder Diffraction segment :\n",
      "   Radiation               : X-ray   , wavelength =  1.5406 A ==    8.0480 keV\n",
      "   Calculations for axis   : Q=4pi sin(Theta)/lambda\n",
      "   Q  min, Q  max          :    0.50000     7.10000\n",
      "   DELTA Q                 :    0.00500\n",
      "   Q zero (Obs0 at true Q) :    0.00000\n",
      "   TTHmin, TTHmax          :    7.02852   121.01415\n",
      "   DELTA TTH               :    0.07037\n",
      "   TTH zero; Obs0 at true  :    0.00000\n",
      "   Instrument resolution   : Profile function switched off\n",
      "   Temp. factors           : used\n",
      "   Anomalous scat.         : ignored\n",
      "   Preferred orientation   : off\n",
      "   Fourier Mode            : normal Fourier\n",
      "       Bragg Reflections   : included\n",
      "   Powder diffractometer   : Bragg-Brentano\n",
      "   Polarisation fraction   :    0.79979\n",
      "   2-Theta Monochromator   :   26.58000\n",
      "   Fourier calculation via : Debye formula               \n",
      " discus/powd> run\n",
      " Computing powder sine lookup table ...\n",
      " Computing sin(theta)/lambda table ...\n",
      "  Starting histogram\n",
      "\n",
      " Elapsed time H  :  0.217396E-02 sec\n",
      "  Starting convolution\n",
      "\n",
      " Elapsed time    :  0.110557E-04 sec\n",
      " discus/powd> exit\n",
      " discus>  \n",
      " discus> output\n",
      " discus/output> outf  powder.inte\n",
      " discus/output> value inte\n",
      " discus/output> form  powder,tth,1.0,180,0.01\n",
      " discus/output> run\n",
      " discus/output> exit\n",
      "  \n"
     ]
    }
   ],
   "source": [
    "s.execute_macro(\"@powder.mac\")"
   ]
  },
  {
   "cell_type": "code",
   "execution_count": null,
   "metadata": {},
   "outputs": [],
   "source": []
  }
 ],
 "metadata": {
  "kernelspec": {
   "display_name": "Python 3 (ipykernel)",
   "language": "python",
   "name": "python3"
  },
  "language_info": {
   "codemirror_mode": {
    "name": "ipython",
    "version": 3
   },
   "file_extension": ".py",
   "mimetype": "text/x-python",
   "name": "python",
   "nbconvert_exporter": "python",
   "pygments_lexer": "ipython3",
   "version": "3.10.12"
  }
 },
 "nbformat": 4,
 "nbformat_minor": 4
}
