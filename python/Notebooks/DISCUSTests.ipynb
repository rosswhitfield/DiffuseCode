{
 "cells": [
  {
   "cell_type": "markdown",
   "metadata": {},
   "source": [
    "## DISCUS Notebook"
   ]
  },
  {
   "cell_type": "markdown",
   "metadata": {},
   "source": [
    "#### My Python build directory for now"
   ]
  },
  {
   "cell_type": "code",
   "execution_count": 1,
   "metadata": {},
   "outputs": [],
   "source": [
    "import sys\n",
    "sys.path.append('/home/discus/DiffuseBuilt/python')  # Find an installation location (/usr/local/lib or python default path)"
   ]
  },
  {
   "cell_type": "markdown",
   "metadata": {},
   "source": [
    "#### Import the DISCUS Suite"
   ]
  },
  {
   "cell_type": "code",
   "execution_count": 2,
   "metadata": {
    "scrolled": true
   },
   "outputs": [],
   "source": [
    "from suite_python import suite as s\n",
    "import numpy as np"
   ]
  },
  {
   "cell_type": "markdown",
   "metadata": {},
   "source": [
    "#### Play"
   ]
  },
  {
   "cell_type": "code",
   "execution_count": 3,
   "metadata": {},
   "outputs": [
    {
     "name": "stdout",
     "output_type": "stream",
     "text": [
      "\u001b[49m\n",
      "\u001b[39m\n",
      " ................................................................................................................................................................................................................................................................\n",
      "\n",
      "\n",
      "\n",
      "\n",
      "\n",
      "\n",
      "          ***********************************************************\n",
      "          *         D I S C U S - S U I T E  Version 6.16.02        *\n",
      "          *                      DEBUG VERSION                      *\n",
      "          *         OpenMP is active; maximum threads  10           *\n",
      "          *         Created : 2024-03-01                            *\n",
      "          *---------------------------------------------------------*\n",
      "          * (c) R.B. Neder  (reinhard.neder@fau.de)                 *\n",
      "          * (c) T. Proffen  (tproffen@ornl.gov    )                 *\n",
      "          ***********************************************************\n",
      "\n",
      " Start directory  : C:\\Users\\thoma\\Github\\DiffuseCode\\python\\Notebooks\\\n",
      " Access manuals at each section with   : manual\n",
      " Access help at each section/menu with : help  \n",
      " News at each section/Command_lang in  : help News\n",
      " Change font size with                 : CTRL + /CTRL -\n",
      " Preferences: Right click + Preferences: \n",
      "\n",
      "\n"
     ]
    }
   ],
   "source": [
    "s.initialize_suite()"
   ]
  },
  {
   "cell_type": "code",
   "execution_count": 4,
   "metadata": {},
   "outputs": [
    {
     "name": "stdout",
     "output_type": "stream",
     "text": [
      "\u001b[34m@one.mac\u001b[39m\n",
      " suite> discus\n",
      " discus> variable integer,test\n",
      " discus> test=123\n",
      " discus> exit\n",
      "  \n"
     ]
    }
   ],
   "source": [
    "s.execute_macro(\"@one.mac\")"
   ]
  },
  {
   "cell_type": "code",
   "execution_count": 5,
   "metadata": {},
   "outputs": [
    {
     "name": "stdout",
     "output_type": "stream",
     "text": [
      "\u001b[34m@one.mac\u001b[39m\n",
      " suite> discus\n",
      " discus> variable integer,test\n",
      " discus> test=123\n",
      " discus> exit\n",
      "  \n"
     ]
    }
   ],
   "source": [
    "s.execute_macro(\"@one.mac\")"
   ]
  },
  {
   "cell_type": "code",
   "execution_count": 6,
   "metadata": {},
   "outputs": [
    {
     "name": "stdout",
     "output_type": "stream",
     "text": [
      "\u001b[34m@two.mac\u001b[39m\n",
      " suite> eval test\n",
      " Value of test =    123.000000000    \n",
      " suite> echo \"Woohoo\"\n",
      " Woohoo\n",
      "  \n"
     ]
    }
   ],
   "source": [
    "s.execute_macro(\"@two.mac\")"
   ]
  },
  {
   "cell_type": "code",
   "execution_count": null,
   "metadata": {},
   "outputs": [],
   "source": []
  }
 ],
 "metadata": {
  "kernelspec": {
   "display_name": "Python 3 (ipykernel)",
   "language": "python",
   "name": "python3"
  },
  "language_info": {
   "codemirror_mode": {
    "name": "ipython",
    "version": 3
   },
   "file_extension": ".py",
   "mimetype": "text/x-python",
   "name": "python",
   "nbconvert_exporter": "python",
   "pygments_lexer": "ipython3",
   "version": "3.10.12"
  }
 },
 "nbformat": 4,
 "nbformat_minor": 4
}
